{
 "cells": [
  {
   "cell_type": "code",
   "execution_count": null,
   "metadata": {
    "collapsed": true
   },
   "outputs": [],
   "source": [
    "haiRaw = sc.textFile(\"wasb:///hai/HealthcareAssociatedInfections.txt\",16)\\\n",
    "    .map(lambda line: [x for x in line.split(\"\\t\")])\\\n",
    "    .filter(lambda r: r[0] != 'ProviderID')\\\n",
    "    .map(lambda r: (int(r[0]), str(r[1]), str(r[4]), str(r[8]), str(r[9]), str(r[10]), str(r[11])))\n",
    "haiRaw.take(1)"
   ]
  },
  {
   "cell_type": "code",
   "execution_count": null,
   "metadata": {
    "collapsed": true
   },
   "outputs": [],
   "source": [
    "haiSchema = StructType([StructField('ProviderID', IntegerType(), False),\n",
    "                     StructField('HospitalName', StringType(), True),\n",
    "                     StructField('State', StringType(), True),\n",
    "                     StructField('MeasureName', StringType(), True),\n",
    "                     StructField('MeasureID', StringType(), True),\n",
    "                     StructField('ComparedToNationalScore', StringType(), True),\n",
    "                     StructField('MeasureValue', StringType(), True)])\n",
    "haiDF = sqlContext.createDataFrame(haiRaw, haiSchema)"
   ]
  },
  {
   "cell_type": "code",
   "execution_count": null,
   "metadata": {
    "collapsed": true
   },
   "outputs": [],
   "source": [
    "haiDF.cache()"
   ]
  },
  {
   "cell_type": "code",
   "execution_count": null,
   "metadata": {
    "collapsed": true
   },
   "outputs": [],
   "source": [
    "haiDF.show(1)"
   ]
  },
  {
   "cell_type": "code",
   "execution_count": null,
   "metadata": {
    "collapsed": true
   },
   "outputs": [],
   "source": [
    "haiDF.registerTempTable('hainfections')"
   ]
  },
  {
   "cell_type": "code",
   "execution_count": null,
   "metadata": {
    "collapsed": true
   },
   "outputs": [],
   "source": [
    "%%sql\n",
    "SELECT State,\n",
    "    AVG(MeasureValue) AS AverageScoreMRSA\n",
    "FROM hainfections\n",
    "WHERE MeasureID = 'HAI_5_SIR'\n",
    "GROUP BY State\n",
    "ORDER BY State"
   ]
  },
  {
   "cell_type": "code",
   "execution_count": null,
   "metadata": {
    "collapsed": true
   },
   "outputs": [],
   "source": [
    "%%sql\n",
    "SELECT State,\n",
    "    SUM(MeasureValue) AS ObservedCasesMRSA\n",
    "FROM hainfections\n",
    "WHERE MeasureID = 'HAI_5_NUMERATOR'\n",
    "GROUP BY State\n",
    "ORDER BY State"
   ]
  },
  {
   "cell_type": "code",
   "execution_count": null,
   "metadata": {
    "collapsed": true
   },
   "outputs": [],
   "source": [
    "mrsa = sqlContext.sql(\"SELECT State, \\\n",
    "                           MeasureValue AS ObservedCasesMRSA \\\n",
    "                       FROM hainfections \\\n",
    "                       WHERE MeasureID = 'HAI_5_NUMERATOR'\")\n",
    "mrsa.select(\"*\").write.save(\"mrsa.parquet\", format=\"parquet\")"
   ]
  },
  {
   "cell_type": "code",
   "execution_count": null,
   "metadata": {
    "collapsed": true
   },
   "outputs": [],
   "source": [
    "hiveHaiDF = hiveContext.createDataFrame(haiRaw, haiSchema)\n",
    "hiveHaiDF.saveAsTable('infections')"
   ]
  },
  {
   "cell_type": "code",
   "execution_count": null,
   "metadata": {
    "collapsed": true
   },
   "outputs": [],
   "source": [
    "%%hive\n",
    "show tables"
   ]
  }
 ],
 "metadata": {
  "kernelspec": {
   "display_name": "PySpark",
   "language": "",
   "name": "pysparkkernel"
  },
  "language_info": {
   "codemirror_mode": {
    "name": "python"
   },
   "mimetype": "text/x-python",
   "name": "pyspark",
   "pygments_lexer": "python2"
  }
 },
 "nbformat": 4,
 "nbformat_minor": 0
}
